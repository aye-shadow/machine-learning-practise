{
 "cells": [
  {
   "cell_type": "markdown",
   "id": "fa6680a4-563b-4784-8cba-163c92912aa5",
   "metadata": {},
   "source": [
    "# KNN: Predicting Customer Class (Cars)"
   ]
  },
  {
   "cell_type": "markdown",
   "id": "761a3ae7-0f03-4b82-8347-c3c664ceca09",
   "metadata": {},
   "source": [
    "### Reading CSV File"
   ]
  },
  {
   "cell_type": "code",
   "execution_count": 83,
   "id": "1ff24ce2-4d9b-41f4-ba5b-af4e5363370d",
   "metadata": {},
   "outputs": [],
   "source": [
    "import pandas as pd"
   ]
  },
  {
   "cell_type": "code",
   "execution_count": 84,
   "id": "748c1458-d3b5-45e9-9643-5a23d8300bcf",
   "metadata": {},
   "outputs": [
    {
     "data": {
      "text/html": [
       "<div>\n",
       "<style scoped>\n",
       "    .dataframe tbody tr th:only-of-type {\n",
       "        vertical-align: middle;\n",
       "    }\n",
       "\n",
       "    .dataframe tbody tr th {\n",
       "        vertical-align: top;\n",
       "    }\n",
       "\n",
       "    .dataframe thead th {\n",
       "        text-align: right;\n",
       "    }\n",
       "</style>\n",
       "<table border=\"1\" class=\"dataframe\">\n",
       "  <thead>\n",
       "    <tr style=\"text-align: right;\">\n",
       "      <th></th>\n",
       "      <th>buying</th>\n",
       "      <th>maint</th>\n",
       "      <th>door</th>\n",
       "      <th>persons</th>\n",
       "      <th>lug_boot</th>\n",
       "      <th>safety</th>\n",
       "      <th>class</th>\n",
       "    </tr>\n",
       "  </thead>\n",
       "  <tbody>\n",
       "    <tr>\n",
       "      <th>0</th>\n",
       "      <td>vhigh</td>\n",
       "      <td>vhigh</td>\n",
       "      <td>2</td>\n",
       "      <td>2</td>\n",
       "      <td>small</td>\n",
       "      <td>low</td>\n",
       "      <td>unacc</td>\n",
       "    </tr>\n",
       "    <tr>\n",
       "      <th>1</th>\n",
       "      <td>vhigh</td>\n",
       "      <td>vhigh</td>\n",
       "      <td>2</td>\n",
       "      <td>2</td>\n",
       "      <td>small</td>\n",
       "      <td>med</td>\n",
       "      <td>unacc</td>\n",
       "    </tr>\n",
       "    <tr>\n",
       "      <th>2</th>\n",
       "      <td>vhigh</td>\n",
       "      <td>vhigh</td>\n",
       "      <td>2</td>\n",
       "      <td>2</td>\n",
       "      <td>small</td>\n",
       "      <td>high</td>\n",
       "      <td>unacc</td>\n",
       "    </tr>\n",
       "    <tr>\n",
       "      <th>3</th>\n",
       "      <td>vhigh</td>\n",
       "      <td>vhigh</td>\n",
       "      <td>2</td>\n",
       "      <td>2</td>\n",
       "      <td>med</td>\n",
       "      <td>low</td>\n",
       "      <td>unacc</td>\n",
       "    </tr>\n",
       "    <tr>\n",
       "      <th>4</th>\n",
       "      <td>vhigh</td>\n",
       "      <td>vhigh</td>\n",
       "      <td>2</td>\n",
       "      <td>2</td>\n",
       "      <td>med</td>\n",
       "      <td>med</td>\n",
       "      <td>unacc</td>\n",
       "    </tr>\n",
       "  </tbody>\n",
       "</table>\n",
       "</div>"
      ],
      "text/plain": [
       "  buying  maint door persons lug_boot safety  class\n",
       "0  vhigh  vhigh    2       2    small    low  unacc\n",
       "1  vhigh  vhigh    2       2    small    med  unacc\n",
       "2  vhigh  vhigh    2       2    small   high  unacc\n",
       "3  vhigh  vhigh    2       2      med    low  unacc\n",
       "4  vhigh  vhigh    2       2      med    med  unacc"
      ]
     },
     "execution_count": 84,
     "metadata": {},
     "output_type": "execute_result"
    }
   ],
   "source": [
    "df = pd.read_csv(\"car.data\")\n",
    "df.head()"
   ]
  },
  {
   "cell_type": "markdown",
   "id": "a8184f1b-a203-40b9-8f87-adfe91683ea6",
   "metadata": {},
   "source": [
    "### Reading Columns"
   ]
  },
  {
   "cell_type": "code",
   "execution_count": 85,
   "id": "ba58314f-4fc0-455b-b5ca-4877c23bed0f",
   "metadata": {},
   "outputs": [
    {
     "data": {
      "text/plain": [
       "Index(['buying', 'maint', 'door', 'persons', 'lug_boot', 'safety', 'class'], dtype='object')"
      ]
     },
     "execution_count": 85,
     "metadata": {},
     "output_type": "execute_result"
    }
   ],
   "source": [
    "df.columns"
   ]
  },
  {
   "cell_type": "code",
   "execution_count": 86,
   "id": "6e15d3a9-3f78-4834-87c6-246a703e1aaa",
   "metadata": {},
   "outputs": [],
   "source": [
    "predict = \"class\""
   ]
  },
  {
   "cell_type": "markdown",
   "id": "126da99a-7c71-45d9-bd28-5773e6c16186",
   "metadata": {},
   "source": [
    "### Preprocessing Data"
   ]
  },
  {
   "cell_type": "code",
   "execution_count": 87,
   "id": "52874583-f0e2-43e1-befc-1a4588ccce9a",
   "metadata": {},
   "outputs": [
    {
     "data": {
      "text/html": [
       "<div>\n",
       "<style scoped>\n",
       "    .dataframe tbody tr th:only-of-type {\n",
       "        vertical-align: middle;\n",
       "    }\n",
       "\n",
       "    .dataframe tbody tr th {\n",
       "        vertical-align: top;\n",
       "    }\n",
       "\n",
       "    .dataframe thead th {\n",
       "        text-align: right;\n",
       "    }\n",
       "</style>\n",
       "<table border=\"1\" class=\"dataframe\">\n",
       "  <thead>\n",
       "    <tr style=\"text-align: right;\">\n",
       "      <th></th>\n",
       "      <th>buying</th>\n",
       "      <th>maint</th>\n",
       "      <th>door</th>\n",
       "      <th>persons</th>\n",
       "      <th>lug_boot</th>\n",
       "      <th>safety</th>\n",
       "      <th>class</th>\n",
       "    </tr>\n",
       "  </thead>\n",
       "  <tbody>\n",
       "    <tr>\n",
       "      <th>0</th>\n",
       "      <td>3</td>\n",
       "      <td>3</td>\n",
       "      <td>0</td>\n",
       "      <td>0</td>\n",
       "      <td>2</td>\n",
       "      <td>1</td>\n",
       "      <td>2</td>\n",
       "    </tr>\n",
       "    <tr>\n",
       "      <th>1</th>\n",
       "      <td>3</td>\n",
       "      <td>3</td>\n",
       "      <td>0</td>\n",
       "      <td>0</td>\n",
       "      <td>2</td>\n",
       "      <td>2</td>\n",
       "      <td>2</td>\n",
       "    </tr>\n",
       "    <tr>\n",
       "      <th>2</th>\n",
       "      <td>3</td>\n",
       "      <td>3</td>\n",
       "      <td>0</td>\n",
       "      <td>0</td>\n",
       "      <td>2</td>\n",
       "      <td>0</td>\n",
       "      <td>2</td>\n",
       "    </tr>\n",
       "    <tr>\n",
       "      <th>3</th>\n",
       "      <td>3</td>\n",
       "      <td>3</td>\n",
       "      <td>0</td>\n",
       "      <td>0</td>\n",
       "      <td>1</td>\n",
       "      <td>1</td>\n",
       "      <td>2</td>\n",
       "    </tr>\n",
       "    <tr>\n",
       "      <th>4</th>\n",
       "      <td>3</td>\n",
       "      <td>3</td>\n",
       "      <td>0</td>\n",
       "      <td>0</td>\n",
       "      <td>1</td>\n",
       "      <td>2</td>\n",
       "      <td>2</td>\n",
       "    </tr>\n",
       "  </tbody>\n",
       "</table>\n",
       "</div>"
      ],
      "text/plain": [
       "   buying  maint  door  persons  lug_boot  safety  class\n",
       "0       3      3     0        0         2       1      2\n",
       "1       3      3     0        0         2       2      2\n",
       "2       3      3     0        0         2       0      2\n",
       "3       3      3     0        0         1       1      2\n",
       "4       3      3     0        0         1       2      2"
      ]
     },
     "execution_count": 87,
     "metadata": {},
     "output_type": "execute_result"
    }
   ],
   "source": [
    "from sklearn import preprocessing\n",
    "\n",
    "le = preprocessing.LabelEncoder()\n",
    "\n",
    "original_class_labels = df[predict].unique()\n",
    "\n",
    "for column in df:\n",
    "    df[column] = le.fit_transform(df[column].values)\n",
    "\n",
    "df.head()"
   ]
  },
  {
   "cell_type": "markdown",
   "id": "f87aceec-fae6-42f5-a4f5-56e06400f256",
   "metadata": {},
   "source": [
    "### Defining Attributes and Label"
   ]
  },
  {
   "cell_type": "code",
   "execution_count": 88,
   "id": "a7112552-cd56-49f5-b0a8-deec00c8093d",
   "metadata": {},
   "outputs": [],
   "source": [
    "X = df.drop([predict], axis=1)\n",
    "y = df[predict]"
   ]
  },
  {
   "cell_type": "markdown",
   "id": "8d8aaf02-27f1-4cbe-a942-9dd7b1f220fb",
   "metadata": {},
   "source": [
    "### Splitting Dataset into Train-Test Sets"
   ]
  },
  {
   "cell_type": "code",
   "execution_count": 89,
   "id": "68948d9b-1283-409b-a7d3-aa14d5929301",
   "metadata": {},
   "outputs": [],
   "source": [
    "from sklearn.model_selection import train_test_split\n",
    "\n",
    "X_train, X_test, y_train, y_test = train_test_split(X, y, test_size = 0.2, random_state = 42)"
   ]
  },
  {
   "cell_type": "markdown",
   "id": "0b6ce0be-8582-469e-919b-9df94d454ec2",
   "metadata": {},
   "source": [
    "### Defining Appropriate Max-K Value"
   ]
  },
  {
   "cell_type": "code",
   "execution_count": 90,
   "id": "a7d27b7c-0b41-44b2-b100-6643969de550",
   "metadata": {},
   "outputs": [],
   "source": [
    "from math import sqrt, floor\n",
    "\n",
    "max_k = floor(sqrt(len(y_test)))\n",
    "if max_k % 2 == 0:\n",
    "    max_k = max_k - 1"
   ]
  },
  {
   "cell_type": "markdown",
   "id": "34927747-8046-49cb-8099-cb4a74a1f8f4",
   "metadata": {},
   "source": [
    "### Visualising Data Spread for F1 Average Type"
   ]
  },
  {
   "cell_type": "code",
   "execution_count": 91,
   "id": "a3f0f6d7-a7e2-47bb-bb94-65572a42a106",
   "metadata": {},
   "outputs": [
    {
     "data": {
      "image/png": "[encoded data removed]",
      "text/plain": [
       "<Figure size 640x480 with 1 Axes>"
      ]
     },
     "metadata": {},
     "output_type": "display_data"
    }
   ],
   "source": [
    "import matplotlib.pyplot as plt\n",
    "\n",
    "plt.bar(df[predict].value_counts().index, df[predict].value_counts().values, color ='maroon', width = 0.5)\n",
    "plt.xlabel('Customer Classes')\n",
    "plt.ylabel('Count')\n",
    "plt.title('Count Per Customer Class')\n",
    "plt.show()"
   ]
  },
  {
   "cell_type": "markdown",
   "id": "5d91b785-a8a8-4a9d-b8f2-48d4c451db1a",
   "metadata": {},
   "source": [
    "### Training Data on Different Values of K"
   ]
  },
  {
   "cell_type": "code",
   "execution_count": 92,
   "id": "a8ee23f2-4a59-4a36-87e9-cde317583ec8",
   "metadata": {},
   "outputs": [],
   "source": [
    "from sklearn.neighbors import KNeighborsClassifier\n",
    "from sklearn.metrics import f1_score, confusion_matrix, ConfusionMatrixDisplay\n",
    "\n",
    "all_scores = np.zeros(max_k)\n",
    "\n",
    "for n in range(1, max_k + 1):\n",
    "    model = KNeighborsClassifier(n_neighbors = n)\n",
    "    model.fit(X_train, y_train)\n",
    "\n",
    "    y_hat = model.predict(X_test)\n",
    "\n",
    "    f1 = f1_score(y_test, y_hat, average = 'weighted')\n",
    "\n",
    "    all_scores[n - 1] = f1"
   ]
  },
  {
   "cell_type": "markdown",
   "id": "33e9550b-5c05-4969-b147-8895a30deae5",
   "metadata": {},
   "source": [
    "### Choosing Best Value of K"
   ]
  },
  {
   "cell_type": "code",
   "execution_count": 93,
   "id": "30176751-0dc6-4a14-896c-4b3602a8cae4",
   "metadata": {},
   "outputs": [
    {
     "data": {
      "image/png": "[encoded data removed]",
      "text/plain": [
       "<Figure size 640x480 with 1 Axes>"
      ]
     },
     "metadata": {},
     "output_type": "display_data"
    }
   ],
   "source": [
    "plt.plot(range(1, max_k + 1), all_scores, 'g')\n",
    "plt.show()"
   ]
  },
  {
   "cell_type": "code",
   "execution_count": 94,
   "id": "cbdaaa13-dcad-4320-8c5a-bed8474903c6",
   "metadata": {},
   "outputs": [
    {
     "name": "stdout",
     "output_type": "stream",
     "text": [
      "The best accuracy was with 0.9181979670480909 with k = 7\n"
     ]
    }
   ],
   "source": [
    "best_k = all_scores.argmax()+1\n",
    "\n",
    "print(\"The best accuracy was with\", all_scores.max(), \"with k =\", best_k) "
   ]
  },
  {
   "cell_type": "markdown",
   "id": "b85cd0cf-76e3-45a4-9b59-c4b7114ad7a1",
   "metadata": {},
   "source": [
    "### Evalutaing Our Model"
   ]
  },
  {
   "cell_type": "code",
   "execution_count": 95,
   "id": "5364bafb-5639-4127-a73c-0e8606404f1e",
   "metadata": {},
   "outputs": [
    {
     "data": {
      "image/png": "[encoded data removed]",
      "text/plain": [
       "<Figure size 640x480 with 2 Axes>"
      ]
     },
     "metadata": {},
     "output_type": "display_data"
    }
   ],
   "source": [
    "model = KNeighborsClassifier(n_neighbors = best_k)\n",
    "model.fit(X_train, y_train)\n",
    "y_hat = model.predict(X_test)\n",
    "\n",
    "display_labels = le.inverse_transform([0, 1, 2, 3])\n",
    "\n",
    "cm = confusion_matrix(y_test, y_hat)\n",
    "cm_disp = ConfusionMatrixDisplay(confusion_matrix = cm, display_labels = display_labels)\n",
    "cm_disp.plot()\n",
    "plt.show()"
   ]
  },
  {
   "cell_type": "code",
   "execution_count": null,
   "id": "deedeab3-e53d-4887-9bec-16bb421eaf08",
   "metadata": {},
   "outputs": [],
   "source": []
  }
 ],
 "metadata": {
  "kernelspec": {
   "display_name": "Python 3 (ipykernel)",
   "language": "python",
   "name": "python3"
  },
  "language_info": {
   "codemirror_mode": {
    "name": "ipython",
    "version": 3
   },
   "file_extension": ".py",
   "mimetype": "text/x-python",
   "name": "python",
   "nbconvert_exporter": "python",
   "pygments_lexer": "ipython3",
   "version": "3.11.7"
  }
 },
 "nbformat": 4,
 "nbformat_minor": 5
}
