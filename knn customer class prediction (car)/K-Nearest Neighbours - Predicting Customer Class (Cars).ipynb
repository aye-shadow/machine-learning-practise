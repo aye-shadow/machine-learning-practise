{
 "cells": [
  {
   "cell_type": "markdown",
   "id": "fa6680a4-563b-4784-8cba-163c92912aa5",
   "metadata": {},
   "source": [
    "# KNN: Predicting Customer Class (Cars)"
   ]
  },
  {
   "cell_type": "markdown",
   "id": "761a3ae7-0f03-4b82-8347-c3c664ceca09",
   "metadata": {},
   "source": [
    "## Reading CSV File"
   ]
  },
  {
   "cell_type": "code",
   "execution_count": 3,
   "id": "1ff24ce2-4d9b-41f4-ba5b-af4e5363370d",
   "metadata": {},
   "outputs": [],
   "source": [
    "import pandas as pd"
   ]
  },
  {
   "cell_type": "code",
   "execution_count": 4,
   "id": "748c1458-d3b5-45e9-9643-5a23d8300bcf",
   "metadata": {},
   "outputs": [
    {
     "data": {
      "text/html": [
       "<div>\n",
       "<style scoped>\n",
       "    .dataframe tbody tr th:only-of-type {\n",
       "        vertical-align: middle;\n",
       "    }\n",
       "\n",
       "    .dataframe tbody tr th {\n",
       "        vertical-align: top;\n",
       "    }\n",
       "\n",
       "    .dataframe thead th {\n",
       "        text-align: right;\n",
       "    }\n",
       "</style>\n",
       "<table border=\"1\" class=\"dataframe\">\n",
       "  <thead>\n",
       "    <tr style=\"text-align: right;\">\n",
       "      <th></th>\n",
       "      <th>buying</th>\n",
       "      <th>maint</th>\n",
       "      <th>door</th>\n",
       "      <th>persons</th>\n",
       "      <th>lug_boot</th>\n",
       "      <th>safety</th>\n",
       "      <th>class</th>\n",
       "    </tr>\n",
       "  </thead>\n",
       "  <tbody>\n",
       "    <tr>\n",
       "      <th>0</th>\n",
       "      <td>vhigh</td>\n",
       "      <td>vhigh</td>\n",
       "      <td>2</td>\n",
       "      <td>2</td>\n",
       "      <td>small</td>\n",
       "      <td>low</td>\n",
       "      <td>unacc</td>\n",
       "    </tr>\n",
       "    <tr>\n",
       "      <th>1</th>\n",
       "      <td>vhigh</td>\n",
       "      <td>vhigh</td>\n",
       "      <td>2</td>\n",
       "      <td>2</td>\n",
       "      <td>small</td>\n",
       "      <td>med</td>\n",
       "      <td>unacc</td>\n",
       "    </tr>\n",
       "    <tr>\n",
       "      <th>2</th>\n",
       "      <td>vhigh</td>\n",
       "      <td>vhigh</td>\n",
       "      <td>2</td>\n",
       "      <td>2</td>\n",
       "      <td>small</td>\n",
       "      <td>high</td>\n",
       "      <td>unacc</td>\n",
       "    </tr>\n",
       "    <tr>\n",
       "      <th>3</th>\n",
       "      <td>vhigh</td>\n",
       "      <td>vhigh</td>\n",
       "      <td>2</td>\n",
       "      <td>2</td>\n",
       "      <td>med</td>\n",
       "      <td>low</td>\n",
       "      <td>unacc</td>\n",
       "    </tr>\n",
       "    <tr>\n",
       "      <th>4</th>\n",
       "      <td>vhigh</td>\n",
       "      <td>vhigh</td>\n",
       "      <td>2</td>\n",
       "      <td>2</td>\n",
       "      <td>med</td>\n",
       "      <td>med</td>\n",
       "      <td>unacc</td>\n",
       "    </tr>\n",
       "  </tbody>\n",
       "</table>\n",
       "</div>"
      ],
      "text/plain": [
       "  buying  maint door persons lug_boot safety  class\n",
       "0  vhigh  vhigh    2       2    small    low  unacc\n",
       "1  vhigh  vhigh    2       2    small    med  unacc\n",
       "2  vhigh  vhigh    2       2    small   high  unacc\n",
       "3  vhigh  vhigh    2       2      med    low  unacc\n",
       "4  vhigh  vhigh    2       2      med    med  unacc"
      ]
     },
     "execution_count": 4,
     "metadata": {},
     "output_type": "execute_result"
    }
   ],
   "source": [
    "df = pd.read_csv(\"car.data\")\n",
    "df.head()"
   ]
  },
  {
   "cell_type": "markdown",
   "id": "126da99a-7c71-45d9-bd28-5773e6c16186",
   "metadata": {},
   "source": [
    "## Preprocessing Data"
   ]
  },
  {
   "cell_type": "code",
   "execution_count": 5,
   "id": "6778ceda-94d5-4319-a368-f757b8165a24",
   "metadata": {},
   "outputs": [
    {
     "name": "stdout",
     "output_type": "stream",
     "text": [
      "buying: ['vhigh' 'high' 'med' 'low']\n",
      "maint: ['vhigh' 'high' 'med' 'low']\n",
      "door: ['2' '3' '4' '5more' 'more']\n",
      "persons: ['2' '4' 'more']\n",
      "lug_boot: ['small' 'med' 'big']\n",
      "safety: ['low' 'med' 'high']\n",
      "class: ['unacc' 'acc' 'vgood' 'good']\n"
     ]
    }
   ],
   "source": [
    "for column in df:\n",
    "    if df[column].dtype == object:\n",
    "        print(column + \":\", df[column].unique())"
   ]
  },
  {
   "cell_type": "code",
   "execution_count": 7,
   "id": "52874583-f0e2-43e1-befc-1a4588ccce9a",
   "metadata": {},
   "outputs": [
    {
     "data": {
      "text/html": [
       "<div>\n",
       "<style scoped>\n",
       "    .dataframe tbody tr th:only-of-type {\n",
       "        vertical-align: middle;\n",
       "    }\n",
       "\n",
       "    .dataframe tbody tr th {\n",
       "        vertical-align: top;\n",
       "    }\n",
       "\n",
       "    .dataframe thead th {\n",
       "        text-align: right;\n",
       "    }\n",
       "</style>\n",
       "<table border=\"1\" class=\"dataframe\">\n",
       "  <thead>\n",
       "    <tr style=\"text-align: right;\">\n",
       "      <th></th>\n",
       "      <th>buying</th>\n",
       "      <th>maint</th>\n",
       "      <th>door</th>\n",
       "      <th>persons</th>\n",
       "      <th>lug_boot</th>\n",
       "      <th>safety</th>\n",
       "      <th>class</th>\n",
       "    </tr>\n",
       "  </thead>\n",
       "  <tbody>\n",
       "    <tr>\n",
       "      <th>0</th>\n",
       "      <td>3</td>\n",
       "      <td>3</td>\n",
       "      <td>0</td>\n",
       "      <td>0</td>\n",
       "      <td>2</td>\n",
       "      <td>1</td>\n",
       "      <td>2</td>\n",
       "    </tr>\n",
       "    <tr>\n",
       "      <th>1</th>\n",
       "      <td>3</td>\n",
       "      <td>3</td>\n",
       "      <td>0</td>\n",
       "      <td>0</td>\n",
       "      <td>2</td>\n",
       "      <td>2</td>\n",
       "      <td>2</td>\n",
       "    </tr>\n",
       "    <tr>\n",
       "      <th>2</th>\n",
       "      <td>3</td>\n",
       "      <td>3</td>\n",
       "      <td>0</td>\n",
       "      <td>0</td>\n",
       "      <td>2</td>\n",
       "      <td>0</td>\n",
       "      <td>2</td>\n",
       "    </tr>\n",
       "    <tr>\n",
       "      <th>3</th>\n",
       "      <td>3</td>\n",
       "      <td>3</td>\n",
       "      <td>0</td>\n",
       "      <td>0</td>\n",
       "      <td>1</td>\n",
       "      <td>1</td>\n",
       "      <td>2</td>\n",
       "    </tr>\n",
       "    <tr>\n",
       "      <th>4</th>\n",
       "      <td>3</td>\n",
       "      <td>3</td>\n",
       "      <td>0</td>\n",
       "      <td>0</td>\n",
       "      <td>1</td>\n",
       "      <td>2</td>\n",
       "      <td>2</td>\n",
       "    </tr>\n",
       "  </tbody>\n",
       "</table>\n",
       "</div>"
      ],
      "text/plain": [
       "   buying  maint  door  persons  lug_boot  safety  class\n",
       "0       3      3     0        0         2       1      2\n",
       "1       3      3     0        0         2       2      2\n",
       "2       3      3     0        0         2       0      2\n",
       "3       3      3     0        0         1       1      2\n",
       "4       3      3     0        0         1       2      2"
      ]
     },
     "execution_count": 7,
     "metadata": {},
     "output_type": "execute_result"
    }
   ],
   "source": [
    "from sklearn import preprocessing\n",
    "\n",
    "for column in df:\n",
    "    if df[column].dtype == object:\n",
    "        le = preprocessing.LabelEncoder()\n",
    "        df[column] = le.fit_transform(df[column].values)\n",
    "\n",
    "df.head()"
   ]
  },
  {
   "cell_type": "markdown",
   "id": "f87aceec-fae6-42f5-a4f5-56e06400f256",
   "metadata": {},
   "source": [
    "## Defining Attributes and Label"
   ]
  },
  {
   "cell_type": "code",
   "execution_count": 8,
   "id": "8a74b30a-2ba9-4da2-b5c0-6318af050e16",
   "metadata": {},
   "outputs": [],
   "source": [
    "predict = \"class\"\n",
    "\n",
    "X = df.drop([predict], axis=1)\n",
    "y = df[predict]"
   ]
  },
  {
   "cell_type": "markdown",
   "id": "34927747-8046-49cb-8099-cb4a74a1f8f4",
   "metadata": {},
   "source": [
    "## Visualising Imbalance"
   ]
  },
  {
   "cell_type": "code",
   "execution_count": 9,
   "id": "a3f0f6d7-a7e2-47bb-bb94-65572a42a106",
   "metadata": {},
   "outputs": [
    {
     "data": {
      "image/png": "[encoded data removed]",
      "text/plain": [
       "<Figure size 640x480 with 1 Axes>"
      ]
     },
     "metadata": {},
     "output_type": "display_data"
    }
   ],
   "source": [
    "import matplotlib.pyplot as plt\n",
    "\n",
    "labels = df[predict].unique()\n",
    "sizes = df[predict].value_counts().values\n",
    "\n",
    "plt.pie(sizes, labels = labels, autopct='%.2f%%')\n",
    "plt.legend()\n",
    "plt.show()"
   ]
  },
  {
   "cell_type": "markdown",
   "id": "8d8aaf02-27f1-4cbe-a942-9dd7b1f220fb",
   "metadata": {},
   "source": [
    "## Splitting Dataset into Train-Test Sets"
   ]
  },
  {
   "cell_type": "code",
   "execution_count": 10,
   "id": "68948d9b-1283-409b-a7d3-aa14d5929301",
   "metadata": {},
   "outputs": [],
   "source": [
    "from sklearn.model_selection import train_test_split, cross_val_predict\n",
    "\n",
    "X_train, X_test, y_train, y_test = train_test_split(X, y, test_size = 0.2, random_state = 42, stratify=y)"
   ]
  },
  {
   "cell_type": "code",
   "execution_count": 11,
   "id": "61a4168c-687b-4971-bca8-9bdb118ee270",
   "metadata": {},
   "outputs": [],
   "source": [
    "from sklearn.preprocessing import StandardScaler\n",
    "\n",
    "scaler = StandardScaler()\n",
    "X_scaled = scaler.fit_transform(X_train)\n",
    "X_scaled = pd.DataFrame(X_train, columns=X_train.columns)"
   ]
  },
  {
   "cell_type": "markdown",
   "id": "0b6ce0be-8582-469e-919b-9df94d454ec2",
   "metadata": {},
   "source": [
    "## Defining Appropriate Max-K Value"
   ]
  },
  {
   "cell_type": "code",
   "execution_count": 12,
   "id": "a7d27b7c-0b41-44b2-b100-6643969de550",
   "metadata": {},
   "outputs": [
    {
     "name": "stdout",
     "output_type": "stream",
     "text": [
      "17\n"
     ]
    }
   ],
   "source": [
    "from math import sqrt, floor\n",
    "\n",
    "max_k = floor(sqrt(len(y_test)))\n",
    "if max_k % 2 == 0:\n",
    "    max_k = max_k - 1\n",
    "\n",
    "print(max_k)"
   ]
  },
  {
   "cell_type": "markdown",
   "id": "5d91b785-a8a8-4a9d-b8f2-48d4c451db1a",
   "metadata": {},
   "source": [
    "## Training Data on Different Values of K"
   ]
  },
  {
   "cell_type": "code",
   "execution_count": 13,
   "id": "a8ee23f2-4a59-4a36-87e9-cde317583ec8",
   "metadata": {},
   "outputs": [
    {
     "name": "stdout",
     "output_type": "stream",
     "text": [
      "7 :  0.9303393206527973\n"
     ]
    }
   ],
   "source": [
    "from sklearn.neighbors import KNeighborsClassifier\n",
    "from sklearn.metrics import f1_score, confusion_matrix, ConfusionMatrixDisplay\n",
    "\n",
    "best_k = 0\n",
    "best_score = 0\n",
    "\n",
    "for n in range(1, max_k + 1):\n",
    "    model = KNeighborsClassifier(n_neighbors = n)\n",
    "    model.fit(X_scaled, y_train)\n",
    "\n",
    "    y_hat = model.predict(X_test)\n",
    "\n",
    "    f1 = f1_score(y_test, y_hat, average = 'weighted')\n",
    "\n",
    "    if f1 > best_score:\n",
    "        best_score = f1\n",
    "        best_k = n\n",
    "\n",
    "print(best_k, \": \", best_score)"
   ]
  },
  {
   "cell_type": "markdown",
   "id": "1f0c7300-9123-4bd6-a6dc-2b6fb5496e0c",
   "metadata": {},
   "source": [
    "## Evaluating Model"
   ]
  },
  {
   "cell_type": "code",
   "execution_count": 17,
   "id": "24347ce7-34ee-41df-aaf2-a291ef5afedb",
   "metadata": {},
   "outputs": [
    {
     "name": "stdout",
     "output_type": "stream",
     "text": [
      "              precision    recall  f1-score   support\n",
      "\n",
      "           0       0.73      0.53      0.62        77\n",
      "           1       1.00      0.07      0.13        14\n",
      "           2       0.85      1.00      0.92       242\n",
      "           3       0.86      0.46      0.60        13\n",
      "\n",
      "    accuracy                           0.84       346\n",
      "   macro avg       0.86      0.52      0.57       346\n",
      "weighted avg       0.83      0.84      0.81       346\n",
      "\n"
     ]
    }
   ],
   "source": [
    "from sklearn import metrics\n",
    "\n",
    "print(metrics.classification_report(y_test, y_hat, zero_division=0))"
   ]
  }
 ],
 "metadata": {
  "kernelspec": {
   "display_name": "Python 3 (ipykernel)",
   "language": "python",
   "name": "python3"
  },
  "language_info": {
   "codemirror_mode": {
    "name": "ipython",
    "version": 3
   },
   "file_extension": ".py",
   "mimetype": "text/x-python",
   "name": "python",
   "nbconvert_exporter": "python",
   "pygments_lexer": "ipython3",
   "version": "3.11.7"
  }
 },
 "nbformat": 4,
 "nbformat_minor": 5
}
