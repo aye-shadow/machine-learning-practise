{
 "cells": [
  {
   "cell_type": "markdown",
   "id": "9b3ce212-a74b-483f-adbe-a2f017a18480",
   "metadata": {},
   "source": [
    "# DT: Drug Prescriber"
   ]
  },
  {
   "cell_type": "markdown",
   "id": "75e55e1c-8ec8-46f3-8e95-3a7b48cc7f0a",
   "metadata": {},
   "source": [
    "## Reading CSV File"
   ]
  },
  {
   "cell_type": "code",
   "execution_count": 1,
   "id": "7d5cb973-be37-4f55-85ca-a0e457572f69",
   "metadata": {},
   "outputs": [
    {
     "data": {
      "text/html": [
       "<div>\n",
       "<style scoped>\n",
       "    .dataframe tbody tr th:only-of-type {\n",
       "        vertical-align: middle;\n",
       "    }\n",
       "\n",
       "    .dataframe tbody tr th {\n",
       "        vertical-align: top;\n",
       "    }\n",
       "\n",
       "    .dataframe thead th {\n",
       "        text-align: right;\n",
       "    }\n",
       "</style>\n",
       "<table border=\"1\" class=\"dataframe\">\n",
       "  <thead>\n",
       "    <tr style=\"text-align: right;\">\n",
       "      <th></th>\n",
       "      <th>Age</th>\n",
       "      <th>Sex</th>\n",
       "      <th>BP</th>\n",
       "      <th>Cholesterol</th>\n",
       "      <th>Na_to_K</th>\n",
       "      <th>Drug</th>\n",
       "    </tr>\n",
       "  </thead>\n",
       "  <tbody>\n",
       "    <tr>\n",
       "      <th>0</th>\n",
       "      <td>23</td>\n",
       "      <td>F</td>\n",
       "      <td>HIGH</td>\n",
       "      <td>HIGH</td>\n",
       "      <td>25.355</td>\n",
       "      <td>drugY</td>\n",
       "    </tr>\n",
       "    <tr>\n",
       "      <th>1</th>\n",
       "      <td>47</td>\n",
       "      <td>M</td>\n",
       "      <td>LOW</td>\n",
       "      <td>HIGH</td>\n",
       "      <td>13.093</td>\n",
       "      <td>drugC</td>\n",
       "    </tr>\n",
       "    <tr>\n",
       "      <th>2</th>\n",
       "      <td>47</td>\n",
       "      <td>M</td>\n",
       "      <td>LOW</td>\n",
       "      <td>HIGH</td>\n",
       "      <td>10.114</td>\n",
       "      <td>drugC</td>\n",
       "    </tr>\n",
       "    <tr>\n",
       "      <th>3</th>\n",
       "      <td>28</td>\n",
       "      <td>F</td>\n",
       "      <td>NORMAL</td>\n",
       "      <td>HIGH</td>\n",
       "      <td>7.798</td>\n",
       "      <td>drugX</td>\n",
       "    </tr>\n",
       "    <tr>\n",
       "      <th>4</th>\n",
       "      <td>61</td>\n",
       "      <td>F</td>\n",
       "      <td>LOW</td>\n",
       "      <td>HIGH</td>\n",
       "      <td>18.043</td>\n",
       "      <td>drugY</td>\n",
       "    </tr>\n",
       "  </tbody>\n",
       "</table>\n",
       "</div>"
      ],
      "text/plain": [
       "   Age Sex      BP Cholesterol  Na_to_K   Drug\n",
       "0   23   F    HIGH        HIGH   25.355  drugY\n",
       "1   47   M     LOW        HIGH   13.093  drugC\n",
       "2   47   M     LOW        HIGH   10.114  drugC\n",
       "3   28   F  NORMAL        HIGH    7.798  drugX\n",
       "4   61   F     LOW        HIGH   18.043  drugY"
      ]
     },
     "execution_count": 1,
     "metadata": {},
     "output_type": "execute_result"
    }
   ],
   "source": [
    "import pandas as pd\n",
    "\n",
    "df = pd.read_csv('drug200.csv')\n",
    "df.head()"
   ]
  },
  {
   "cell_type": "markdown",
   "id": "fbc7fe99-5474-402f-b8da-fef2f7cb7c85",
   "metadata": {},
   "source": [
    "## Preprocessing Data\n",
    "\n",
    "Scaling our data is not required in tree-based algorithms, but we still need to convert all our independent variables into a numerical format."
   ]
  },
  {
   "cell_type": "code",
   "execution_count": 2,
   "id": "1c9b2d45-daae-40b8-bf29-7220fbf25f77",
   "metadata": {},
   "outputs": [
    {
     "data": {
      "text/plain": [
       "Age              int64\n",
       "Sex             object\n",
       "BP              object\n",
       "Cholesterol     object\n",
       "Na_to_K        float64\n",
       "Drug            object\n",
       "dtype: object"
      ]
     },
     "execution_count": 2,
     "metadata": {},
     "output_type": "execute_result"
    }
   ],
   "source": [
    "df.dtypes"
   ]
  },
  {
   "cell_type": "markdown",
   "id": "7b405a9d-8659-4122-83fd-2e3f7d4d576c",
   "metadata": {},
   "source": [
    "### Label Encoding"
   ]
  },
  {
   "cell_type": "code",
   "execution_count": 3,
   "id": "3566d328-57fb-4e89-b292-7d67fe899a9c",
   "metadata": {},
   "outputs": [
    {
     "name": "stdout",
     "output_type": "stream",
     "text": [
      "Sex: ['F' 'M']\n",
      "BP: ['HIGH' 'LOW' 'NORMAL']\n",
      "Cholesterol: ['HIGH' 'NORMAL']\n",
      "Drug: ['drugY' 'drugC' 'drugX' 'drugA' 'drugB']\n"
     ]
    }
   ],
   "source": [
    "for column in df:\n",
    "    if df[column].dtype == object:\n",
    "        print(column + \":\", df[column].unique())"
   ]
  },
  {
   "cell_type": "code",
   "execution_count": 4,
   "id": "8d9b2d51-9d88-49fd-9db1-a27b2434a0f6",
   "metadata": {},
   "outputs": [
    {
     "data": {
      "text/html": [
       "<div>\n",
       "<style scoped>\n",
       "    .dataframe tbody tr th:only-of-type {\n",
       "        vertical-align: middle;\n",
       "    }\n",
       "\n",
       "    .dataframe tbody tr th {\n",
       "        vertical-align: top;\n",
       "    }\n",
       "\n",
       "    .dataframe thead th {\n",
       "        text-align: right;\n",
       "    }\n",
       "</style>\n",
       "<table border=\"1\" class=\"dataframe\">\n",
       "  <thead>\n",
       "    <tr style=\"text-align: right;\">\n",
       "      <th></th>\n",
       "      <th>Age</th>\n",
       "      <th>Sex</th>\n",
       "      <th>BP</th>\n",
       "      <th>Cholesterol</th>\n",
       "      <th>Na_to_K</th>\n",
       "      <th>Drug</th>\n",
       "    </tr>\n",
       "  </thead>\n",
       "  <tbody>\n",
       "    <tr>\n",
       "      <th>0</th>\n",
       "      <td>23</td>\n",
       "      <td>0</td>\n",
       "      <td>0</td>\n",
       "      <td>0</td>\n",
       "      <td>25.355</td>\n",
       "      <td>drugY</td>\n",
       "    </tr>\n",
       "    <tr>\n",
       "      <th>1</th>\n",
       "      <td>47</td>\n",
       "      <td>1</td>\n",
       "      <td>1</td>\n",
       "      <td>0</td>\n",
       "      <td>13.093</td>\n",
       "      <td>drugC</td>\n",
       "    </tr>\n",
       "    <tr>\n",
       "      <th>2</th>\n",
       "      <td>47</td>\n",
       "      <td>1</td>\n",
       "      <td>1</td>\n",
       "      <td>0</td>\n",
       "      <td>10.114</td>\n",
       "      <td>drugC</td>\n",
       "    </tr>\n",
       "    <tr>\n",
       "      <th>3</th>\n",
       "      <td>28</td>\n",
       "      <td>0</td>\n",
       "      <td>2</td>\n",
       "      <td>0</td>\n",
       "      <td>7.798</td>\n",
       "      <td>drugX</td>\n",
       "    </tr>\n",
       "    <tr>\n",
       "      <th>4</th>\n",
       "      <td>61</td>\n",
       "      <td>0</td>\n",
       "      <td>1</td>\n",
       "      <td>0</td>\n",
       "      <td>18.043</td>\n",
       "      <td>drugY</td>\n",
       "    </tr>\n",
       "  </tbody>\n",
       "</table>\n",
       "</div>"
      ],
      "text/plain": [
       "   Age Sex BP Cholesterol  Na_to_K   Drug\n",
       "0   23   0  0           0   25.355  drugY\n",
       "1   47   1  1           0   13.093  drugC\n",
       "2   47   1  1           0   10.114  drugC\n",
       "3   28   0  2           0    7.798  drugX\n",
       "4   61   0  1           0   18.043  drugY"
      ]
     },
     "execution_count": 4,
     "metadata": {},
     "output_type": "execute_result"
    }
   ],
   "source": [
    "from sklearn.preprocessing import LabelEncoder\n",
    "\n",
    "for column in df:\n",
    "    if column == \"Sex\" or column == \"BP\" or column == \"Cholesterol\":\n",
    "        encoder = LabelEncoder()\n",
    "        encoder.fit(df[column].unique())\n",
    "        df[column] = encoder.transform(df[column])\n",
    "        df[column] = df[column].astype('category')\n",
    "        \n",
    "df.head()"
   ]
  },
  {
   "cell_type": "markdown",
   "id": "0824be82-ead5-4e86-a7b1-5db445a2b791",
   "metadata": {},
   "source": [
    "We change the type of the column to \"category\" to avoid the `.describe()` method calculating the mean/std/quartiles of that column."
   ]
  },
  {
   "cell_type": "code",
   "execution_count": 5,
   "id": "da36f0ca-55b1-41c3-b98a-76f0f305a84a",
   "metadata": {},
   "outputs": [
    {
     "data": {
      "text/html": [
       "<div>\n",
       "<style scoped>\n",
       "    .dataframe tbody tr th:only-of-type {\n",
       "        vertical-align: middle;\n",
       "    }\n",
       "\n",
       "    .dataframe tbody tr th {\n",
       "        vertical-align: top;\n",
       "    }\n",
       "\n",
       "    .dataframe thead th {\n",
       "        text-align: right;\n",
       "    }\n",
       "</style>\n",
       "<table border=\"1\" class=\"dataframe\">\n",
       "  <thead>\n",
       "    <tr style=\"text-align: right;\">\n",
       "      <th></th>\n",
       "      <th>Age</th>\n",
       "      <th>Na_to_K</th>\n",
       "    </tr>\n",
       "  </thead>\n",
       "  <tbody>\n",
       "    <tr>\n",
       "      <th>count</th>\n",
       "      <td>200.000000</td>\n",
       "      <td>200.000000</td>\n",
       "    </tr>\n",
       "    <tr>\n",
       "      <th>mean</th>\n",
       "      <td>44.315000</td>\n",
       "      <td>16.084485</td>\n",
       "    </tr>\n",
       "    <tr>\n",
       "      <th>std</th>\n",
       "      <td>16.544315</td>\n",
       "      <td>7.223956</td>\n",
       "    </tr>\n",
       "    <tr>\n",
       "      <th>min</th>\n",
       "      <td>15.000000</td>\n",
       "      <td>6.269000</td>\n",
       "    </tr>\n",
       "    <tr>\n",
       "      <th>25%</th>\n",
       "      <td>31.000000</td>\n",
       "      <td>10.445500</td>\n",
       "    </tr>\n",
       "    <tr>\n",
       "      <th>50%</th>\n",
       "      <td>45.000000</td>\n",
       "      <td>13.936500</td>\n",
       "    </tr>\n",
       "    <tr>\n",
       "      <th>75%</th>\n",
       "      <td>58.000000</td>\n",
       "      <td>19.380000</td>\n",
       "    </tr>\n",
       "    <tr>\n",
       "      <th>max</th>\n",
       "      <td>74.000000</td>\n",
       "      <td>38.247000</td>\n",
       "    </tr>\n",
       "  </tbody>\n",
       "</table>\n",
       "</div>"
      ],
      "text/plain": [
       "              Age     Na_to_K\n",
       "count  200.000000  200.000000\n",
       "mean    44.315000   16.084485\n",
       "std     16.544315    7.223956\n",
       "min     15.000000    6.269000\n",
       "25%     31.000000   10.445500\n",
       "50%     45.000000   13.936500\n",
       "75%     58.000000   19.380000\n",
       "max     74.000000   38.247000"
      ]
     },
     "execution_count": 5,
     "metadata": {},
     "output_type": "execute_result"
    }
   ],
   "source": [
    "df.describe()"
   ]
  },
  {
   "cell_type": "markdown",
   "id": "206fd64f-f5c9-452a-809c-1dc357c0c9b4",
   "metadata": {},
   "source": [
    "## Defining Attributes and Label"
   ]
  },
  {
   "cell_type": "code",
   "execution_count": 18,
   "id": "a3e7127f-8518-415b-80d9-4ea5832294de",
   "metadata": {},
   "outputs": [],
   "source": [
    "label = \"Drug\"\n",
    "\n",
    "X = df.drop([label, \"Sex\", \"Cholesterol\"], axis=1)\n",
    "y = df[label]"
   ]
  },
  {
   "cell_type": "markdown",
   "id": "97f50f3e-9653-41de-85d3-5ab9f6ad910f",
   "metadata": {},
   "source": [
    "## Visualing Class Imbalance\n",
    "\n",
    "As you can see, DrugY has a high majority in our dataset, and DrugA and DrugB are the lowest, which shows that that we will need to cater to this imbalance by\n",
    "1) using `stratify` to ensure the split of each category in our datasets is equal\n",
    "2) using a `weighted` paramater in our `f1_score`"
   ]
  },
  {
   "cell_type": "code",
   "execution_count": 19,
   "id": "85ebcd75-bea9-405a-b9cc-78c832791f5d",
   "metadata": {},
   "outputs": [
    {
     "data": {
      "image/png": "[encoded data removed]",
      "text/plain": [
       "<Figure size 640x480 with 1 Axes>"
      ]
     },
     "metadata": {},
     "output_type": "display_data"
    }
   ],
   "source": [
    "import matplotlib.pyplot as plt\n",
    "\n",
    "labels = df[label].unique()\n",
    "sizes = df[label].value_counts().values\n",
    "\n",
    "plt.pie(sizes, labels = labels, autopct='%.2f%%')\n",
    "plt.legend()\n",
    "plt.show()"
   ]
  },
  {
   "cell_type": "markdown",
   "id": "6a5fe7c3-d52c-4bb0-bf73-078dbf7ab72f",
   "metadata": {},
   "source": [
    "## Splitting Dataset into Train-Test Sets"
   ]
  },
  {
   "cell_type": "markdown",
   "id": "b0b4863f-92d2-4c58-a4e9-9c9c8d4c951a",
   "metadata": {},
   "source": [
    "There is no need to scale our features in a Decision Tree, so we simply will not."
   ]
  },
  {
   "cell_type": "code",
   "execution_count": 20,
   "id": "f9cfa842-9a59-4bf5-9473-77d0d4519fd1",
   "metadata": {},
   "outputs": [],
   "source": [
    "from sklearn.model_selection import train_test_split\n",
    "\n",
    "X_train, X_test, y_train, y_test = train_test_split(X, y, test_size=0.2, random_state=42, stratify=y)"
   ]
  },
  {
   "cell_type": "markdown",
   "id": "2db825b0-3285-4834-86d9-e7d9b24eefe4",
   "metadata": {},
   "source": [
    "## Training Decision Tree Model"
   ]
  },
  {
   "cell_type": "code",
   "execution_count": 26,
   "id": "bc0fc214-992a-4e81-9315-93239f960c12",
   "metadata": {},
   "outputs": [
    {
     "name": "stdout",
     "output_type": "stream",
     "text": [
      "1 :  0.6333333333333333\n",
      "2 :  0.7881538461538462\n",
      "3 :  0.8586631016042781\n"
     ]
    }
   ],
   "source": [
    "from sklearn.tree import DecisionTreeClassifier \n",
    "from sklearn.metrics import f1_score\n",
    "\n",
    "best_depth = 0\n",
    "best_score = 0\n",
    "\n",
    "for x in range(1, len(X_train.columns)+1):\n",
    "    drugTree = DecisionTreeClassifier(criterion=\"entropy\", max_depth = x)\n",
    "    drugTree.fit(X_train, y_train)\n",
    "    \n",
    "    y_pred = drugTree.predict(X_test)\n",
    "\n",
    "    f1 = f1_score(y_test, y_pred, average='weighted')\n",
    "    print(x, \": \", f1)\n",
    "\n",
    "    if f1 > best_score:\n",
    "        best_score = f1\n",
    "        best_depth = x"
   ]
  },
  {
   "cell_type": "markdown",
   "id": "18204e65-3bad-41b0-8294-2e1bf27bfc85",
   "metadata": {},
   "source": [
    "As `max_depth=4` gives the best output, we will proceed with that."
   ]
  },
  {
   "cell_type": "code",
   "execution_count": 27,
   "id": "6574881c-232a-46c2-a857-97f25f6c23bb",
   "metadata": {},
   "outputs": [
    {
     "name": "stdout",
     "output_type": "stream",
     "text": [
      "F1 Score: 0.8586631016042781\n"
     ]
    }
   ],
   "source": [
    "drugTree = DecisionTreeClassifier(criterion=\"entropy\", max_depth = best_depth)\n",
    "drugTree.fit(X_train, y_train)\n",
    "\n",
    "y_pred = drugTree.predict(X_test)\n",
    "\n",
    "f1 = f1_score(y_test, y_pred, average='weighted')\n",
    "print(\"F1 Score:\", f1)"
   ]
  },
  {
   "cell_type": "code",
   "execution_count": 28,
   "id": "bd834d4c-7a38-4c6b-9ca8-617f43dc0d93",
   "metadata": {},
   "outputs": [
    {
     "data": {
      "text/html": [
       "<div>\n",
       "<style scoped>\n",
       "    .dataframe tbody tr th:only-of-type {\n",
       "        vertical-align: middle;\n",
       "    }\n",
       "\n",
       "    .dataframe tbody tr th {\n",
       "        vertical-align: top;\n",
       "    }\n",
       "\n",
       "    .dataframe thead th {\n",
       "        text-align: right;\n",
       "    }\n",
       "</style>\n",
       "<table border=\"1\" class=\"dataframe\">\n",
       "  <thead>\n",
       "    <tr style=\"text-align: right;\">\n",
       "      <th></th>\n",
       "      <th>0</th>\n",
       "    </tr>\n",
       "  </thead>\n",
       "  <tbody>\n",
       "    <tr>\n",
       "      <th>Age</th>\n",
       "      <td>0.105226</td>\n",
       "    </tr>\n",
       "    <tr>\n",
       "      <th>BP</th>\n",
       "      <td>0.344301</td>\n",
       "    </tr>\n",
       "    <tr>\n",
       "      <th>Na_to_K</th>\n",
       "      <td>0.550473</td>\n",
       "    </tr>\n",
       "  </tbody>\n",
       "</table>\n",
       "</div>"
      ],
      "text/plain": [
       "                0\n",
       "Age      0.105226\n",
       "BP       0.344301\n",
       "Na_to_K  0.550473"
      ]
     },
     "execution_count": 28,
     "metadata": {},
     "output_type": "execute_result"
    }
   ],
   "source": [
    "features = pd.DataFrame(drugTree.feature_importances_, index = X.columns)\n",
    "features.head()"
   ]
  },
  {
   "cell_type": "markdown",
   "id": "c331a7f5-d8f8-4371-b360-62a6c310ec20",
   "metadata": {},
   "source": [
    "The `feature_importances_` shows us the impact of each independent variable on our tree. On a larger dataset, to avoid overfitting, we might need to prune certain nodes that have minimal impact on our tree (e.g. by adding `ccp_alpha` to our `DecisionTreeClassifier()`; in our case, adding a `ccp_alpha` of 0.136 or below has no impact on our model, and increasing it reduces our accuracy, so we choose to forego it entirely.)\n",
    "\n",
    "Before, `Sex` was `0`, so we removed it. Then `Cholesterol` was also `0`, so we removed it. "
   ]
  },
  {
   "cell_type": "markdown",
   "id": "cacf9e03-1d0c-4ba9-b460-de5e9634514e",
   "metadata": {},
   "source": [
    "## Evaluating Model"
   ]
  },
  {
   "cell_type": "code",
   "execution_count": 30,
   "id": "9aab8bc6-72ce-4cdf-8d74-b49ed1d778d7",
   "metadata": {},
   "outputs": [
    {
     "name": "stdout",
     "output_type": "stream",
     "text": [
      "              precision    recall  f1-score   support\n",
      "\n",
      "       drugA       0.83      1.00      0.91         5\n",
      "       drugB       1.00      0.67      0.80         3\n",
      "       drugC       0.38      1.00      0.55         3\n",
      "       drugX       1.00      0.55      0.71        11\n",
      "       drugY       1.00      1.00      1.00        18\n",
      "\n",
      "    accuracy                           0.85        40\n",
      "   macro avg       0.84      0.84      0.79        40\n",
      "weighted avg       0.93      0.85      0.86        40\n",
      "\n",
      "Accuracy:  0.85\n",
      "F1:  0.859\n"
     ]
    }
   ],
   "source": [
    "from sklearn.metrics import confusion_matrix, classification_report, ConfusionMatrixDisplay, accuracy_score\n",
    "import matplotlib.pyplot as plt\n",
    "\n",
    "print(classification_report(y_test, y_pred, zero_division=0))\n",
    "\n",
    "print(\"Accuracy: \", accuracy_score(y_test, y_pred))\n",
    "print(\"F1: \", f1_score(y_test, y_pred, average='weighted').round(3))"
   ]
  },
  {
   "cell_type": "code",
   "execution_count": 33,
   "id": "aac5229b-3d67-4263-9c5b-faf951259ce8",
   "metadata": {},
   "outputs": [
    {
     "name": "stdout",
     "output_type": "stream",
     "text": [
      "|--- feature_2 <= 14.84\n",
      "|   |--- feature_1 <= 0.50\n",
      "|   |   |--- feature_0 <= 52.00\n",
      "|   |   |   |--- class: drugA\n",
      "|   |   |--- feature_0 >  52.00\n",
      "|   |   |   |--- class: drugB\n",
      "|   |--- feature_1 >  0.50\n",
      "|   |   |--- feature_1 <= 1.50\n",
      "|   |   |   |--- class: drugC\n",
      "|   |   |--- feature_1 >  1.50\n",
      "|   |   |   |--- class: drugX\n",
      "|--- feature_2 >  14.84\n",
      "|   |--- class: drugY\n",
      "\n"
     ]
    }
   ],
   "source": [
    "from sklearn import tree \n",
    "\n",
    "print(tree.export_text(drugTree))"
   ]
  },
  {
   "cell_type": "code",
   "execution_count": 34,
   "id": "62c488c3-0b1c-40db-b1e0-55137af0a4d0",
   "metadata": {},
   "outputs": [
    {
     "data": {
      "image/png": "[encoded data removed]",
      "text/plain": [
       "<Figure size 640x480 with 1 Axes>"
      ]
     },
     "metadata": {},
     "output_type": "display_data"
    }
   ],
   "source": [
    "import matplotlib.pyplot as plt\n",
    "\n",
    "feature_names = X.columns\n",
    "\n",
    "tree.plot_tree(drugTree, feature_names=feature_names, filled=True)\n",
    "plt.show()"
   ]
  },
  {
   "cell_type": "code",
   "execution_count": null,
   "id": "8a84ff74-f0a4-4d35-835f-a8a460483dca",
   "metadata": {},
   "outputs": [],
   "source": []
  }
 ],
 "metadata": {
  "kernelspec": {
   "display_name": "Python 3 (ipykernel)",
   "language": "python",
   "name": "python3"
  },
  "language_info": {
   "codemirror_mode": {
    "name": "ipython",
    "version": 3
   },
   "file_extension": ".py",
   "mimetype": "text/x-python",
   "name": "python",
   "nbconvert_exporter": "python",
   "pygments_lexer": "ipython3",
   "version": "3.11.7"
  }
 },
 "nbformat": 4,
 "nbformat_minor": 5
}
