{
 "cells": [
  {
   "cell_type": "markdown",
   "id": "88131822-e622-4689-bd53-901a5fe7e28e",
   "metadata": {},
   "source": [
    "# MLR: CO2 Emission Prediction\n",
    "\n",
    "## Importing the Libraries"
   ]
  },
  {
   "cell_type": "code",
   "execution_count": 108,
   "id": "97002acf-5ad9-4c5d-a9e9-a974553bc2c8",
   "metadata": {},
   "outputs": [],
   "source": [
    "import matplotlib.pyplot as plt\n",
    "import pandas \n",
    "import pylab as pl\n",
    "import numpy \n",
    "\n",
    "%matplotlib inline"
   ]
  },
  {
   "cell_type": "markdown",
   "id": "54ad4e86-6d8a-4fba-8e53-8f3c99df4af9",
   "metadata": {},
   "source": [
    "## Reading the File"
   ]
  },
  {
   "cell_type": "code",
   "execution_count": 109,
   "id": "bfa4cc61-8752-4e31-b27a-6eed7548443c",
   "metadata": {},
   "outputs": [
    {
     "data": {
      "text/html": [
       "<div>\n",
       "<style scoped>\n",
       "    .dataframe tbody tr th:only-of-type {\n",
       "        vertical-align: middle;\n",
       "    }\n",
       "\n",
       "    .dataframe tbody tr th {\n",
       "        vertical-align: top;\n",
       "    }\n",
       "\n",
       "    .dataframe thead th {\n",
       "        text-align: right;\n",
       "    }\n",
       "</style>\n",
       "<table border=\"1\" class=\"dataframe\">\n",
       "  <thead>\n",
       "    <tr style=\"text-align: right;\">\n",
       "      <th></th>\n",
       "      <th>MODELYEAR</th>\n",
       "      <th>MAKE</th>\n",
       "      <th>MODEL</th>\n",
       "      <th>VEHICLECLASS</th>\n",
       "      <th>ENGINESIZE</th>\n",
       "      <th>CYLINDERS</th>\n",
       "      <th>TRANSMISSION</th>\n",
       "      <th>FUELTYPE</th>\n",
       "      <th>FUELCONSUMPTION_CITY</th>\n",
       "      <th>FUELCONSUMPTION_HWY</th>\n",
       "      <th>FUELCONSUMPTION_COMB</th>\n",
       "      <th>FUELCONSUMPTION_COMB_MPG</th>\n",
       "      <th>CO2EMISSIONS</th>\n",
       "    </tr>\n",
       "  </thead>\n",
       "  <tbody>\n",
       "    <tr>\n",
       "      <th>0</th>\n",
       "      <td>2014</td>\n",
       "      <td>ACURA</td>\n",
       "      <td>ILX</td>\n",
       "      <td>COMPACT</td>\n",
       "      <td>2.0</td>\n",
       "      <td>4</td>\n",
       "      <td>AS5</td>\n",
       "      <td>Z</td>\n",
       "      <td>9.9</td>\n",
       "      <td>6.7</td>\n",
       "      <td>8.5</td>\n",
       "      <td>33</td>\n",
       "      <td>196</td>\n",
       "    </tr>\n",
       "    <tr>\n",
       "      <th>1</th>\n",
       "      <td>2014</td>\n",
       "      <td>ACURA</td>\n",
       "      <td>ILX</td>\n",
       "      <td>COMPACT</td>\n",
       "      <td>2.4</td>\n",
       "      <td>4</td>\n",
       "      <td>M6</td>\n",
       "      <td>Z</td>\n",
       "      <td>11.2</td>\n",
       "      <td>7.7</td>\n",
       "      <td>9.6</td>\n",
       "      <td>29</td>\n",
       "      <td>221</td>\n",
       "    </tr>\n",
       "    <tr>\n",
       "      <th>2</th>\n",
       "      <td>2014</td>\n",
       "      <td>ACURA</td>\n",
       "      <td>ILX HYBRID</td>\n",
       "      <td>COMPACT</td>\n",
       "      <td>1.5</td>\n",
       "      <td>4</td>\n",
       "      <td>AV7</td>\n",
       "      <td>Z</td>\n",
       "      <td>6.0</td>\n",
       "      <td>5.8</td>\n",
       "      <td>5.9</td>\n",
       "      <td>48</td>\n",
       "      <td>136</td>\n",
       "    </tr>\n",
       "    <tr>\n",
       "      <th>3</th>\n",
       "      <td>2014</td>\n",
       "      <td>ACURA</td>\n",
       "      <td>MDX 4WD</td>\n",
       "      <td>SUV - SMALL</td>\n",
       "      <td>3.5</td>\n",
       "      <td>6</td>\n",
       "      <td>AS6</td>\n",
       "      <td>Z</td>\n",
       "      <td>12.7</td>\n",
       "      <td>9.1</td>\n",
       "      <td>11.1</td>\n",
       "      <td>25</td>\n",
       "      <td>255</td>\n",
       "    </tr>\n",
       "    <tr>\n",
       "      <th>4</th>\n",
       "      <td>2014</td>\n",
       "      <td>ACURA</td>\n",
       "      <td>RDX AWD</td>\n",
       "      <td>SUV - SMALL</td>\n",
       "      <td>3.5</td>\n",
       "      <td>6</td>\n",
       "      <td>AS6</td>\n",
       "      <td>Z</td>\n",
       "      <td>12.1</td>\n",
       "      <td>8.7</td>\n",
       "      <td>10.6</td>\n",
       "      <td>27</td>\n",
       "      <td>244</td>\n",
       "    </tr>\n",
       "  </tbody>\n",
       "</table>\n",
       "</div>"
      ],
      "text/plain": [
       "   MODELYEAR   MAKE       MODEL VEHICLECLASS  ENGINESIZE  CYLINDERS  \\\n",
       "0       2014  ACURA         ILX      COMPACT         2.0          4   \n",
       "1       2014  ACURA         ILX      COMPACT         2.4          4   \n",
       "2       2014  ACURA  ILX HYBRID      COMPACT         1.5          4   \n",
       "3       2014  ACURA     MDX 4WD  SUV - SMALL         3.5          6   \n",
       "4       2014  ACURA     RDX AWD  SUV - SMALL         3.5          6   \n",
       "\n",
       "  TRANSMISSION FUELTYPE  FUELCONSUMPTION_CITY  FUELCONSUMPTION_HWY  \\\n",
       "0          AS5        Z                   9.9                  6.7   \n",
       "1           M6        Z                  11.2                  7.7   \n",
       "2          AV7        Z                   6.0                  5.8   \n",
       "3          AS6        Z                  12.7                  9.1   \n",
       "4          AS6        Z                  12.1                  8.7   \n",
       "\n",
       "   FUELCONSUMPTION_COMB  FUELCONSUMPTION_COMB_MPG  CO2EMISSIONS  \n",
       "0                   8.5                        33           196  \n",
       "1                   9.6                        29           221  \n",
       "2                   5.9                        48           136  \n",
       "3                  11.1                        25           255  \n",
       "4                  10.6                        27           244  "
      ]
     },
     "execution_count": 109,
     "metadata": {},
     "output_type": "execute_result"
    }
   ],
   "source": [
    "readFile = pandas.read_csv(\"FuelConsumptionCo2.csv\")\n",
    "readFile.head()"
   ]
  },
  {
   "cell_type": "markdown",
   "id": "e90bab0b-4065-413f-9b0d-a6a3ad23c5bf",
   "metadata": {},
   "source": [
    "## Dropping Unnecessary Columns"
   ]
  },
  {
   "cell_type": "code",
   "execution_count": 110,
   "id": "75cccf64-2643-43ed-9021-238a3dcd92d0",
   "metadata": {},
   "outputs": [
    {
     "data": {
      "text/html": [
       "<div>\n",
       "<style scoped>\n",
       "    .dataframe tbody tr th:only-of-type {\n",
       "        vertical-align: middle;\n",
       "    }\n",
       "\n",
       "    .dataframe tbody tr th {\n",
       "        vertical-align: top;\n",
       "    }\n",
       "\n",
       "    .dataframe thead th {\n",
       "        text-align: right;\n",
       "    }\n",
       "</style>\n",
       "<table border=\"1\" class=\"dataframe\">\n",
       "  <thead>\n",
       "    <tr style=\"text-align: right;\">\n",
       "      <th></th>\n",
       "      <th>ENGINESIZE</th>\n",
       "      <th>CYLINDERS</th>\n",
       "      <th>FUELCONSUMPTION_CITY</th>\n",
       "      <th>FUELCONSUMPTION_HWY</th>\n",
       "      <th>FUELCONSUMPTION_COMB</th>\n",
       "      <th>CO2EMISSIONS</th>\n",
       "    </tr>\n",
       "  </thead>\n",
       "  <tbody>\n",
       "    <tr>\n",
       "      <th>0</th>\n",
       "      <td>2.0</td>\n",
       "      <td>4</td>\n",
       "      <td>9.9</td>\n",
       "      <td>6.7</td>\n",
       "      <td>8.5</td>\n",
       "      <td>196</td>\n",
       "    </tr>\n",
       "    <tr>\n",
       "      <th>1</th>\n",
       "      <td>2.4</td>\n",
       "      <td>4</td>\n",
       "      <td>11.2</td>\n",
       "      <td>7.7</td>\n",
       "      <td>9.6</td>\n",
       "      <td>221</td>\n",
       "    </tr>\n",
       "    <tr>\n",
       "      <th>2</th>\n",
       "      <td>1.5</td>\n",
       "      <td>4</td>\n",
       "      <td>6.0</td>\n",
       "      <td>5.8</td>\n",
       "      <td>5.9</td>\n",
       "      <td>136</td>\n",
       "    </tr>\n",
       "    <tr>\n",
       "      <th>3</th>\n",
       "      <td>3.5</td>\n",
       "      <td>6</td>\n",
       "      <td>12.7</td>\n",
       "      <td>9.1</td>\n",
       "      <td>11.1</td>\n",
       "      <td>255</td>\n",
       "    </tr>\n",
       "    <tr>\n",
       "      <th>4</th>\n",
       "      <td>3.5</td>\n",
       "      <td>6</td>\n",
       "      <td>12.1</td>\n",
       "      <td>8.7</td>\n",
       "      <td>10.6</td>\n",
       "      <td>244</td>\n",
       "    </tr>\n",
       "  </tbody>\n",
       "</table>\n",
       "</div>"
      ],
      "text/plain": [
       "   ENGINESIZE  CYLINDERS  FUELCONSUMPTION_CITY  FUELCONSUMPTION_HWY  \\\n",
       "0         2.0          4                   9.9                  6.7   \n",
       "1         2.4          4                  11.2                  7.7   \n",
       "2         1.5          4                   6.0                  5.8   \n",
       "3         3.5          6                  12.7                  9.1   \n",
       "4         3.5          6                  12.1                  8.7   \n",
       "\n",
       "   FUELCONSUMPTION_COMB  CO2EMISSIONS  \n",
       "0                   8.5           196  \n",
       "1                   9.6           221  \n",
       "2                   5.9           136  \n",
       "3                  11.1           255  \n",
       "4                  10.6           244  "
      ]
     },
     "execution_count": 110,
     "metadata": {},
     "output_type": "execute_result"
    }
   ],
   "source": [
    "for column in readFile:\n",
    "    if readFile[column].dtype == 'O' or column == \"MODELYEAR\" or column == \"FUELCONSUMPTION_COMB_MPG\":\n",
    "        readFile = readFile.drop([column], axis=1)\n",
    "\n",
    "readFile.head()"
   ]
  },
  {
   "cell_type": "markdown",
   "id": "b904a8c4-d815-43a3-b718-ff6ceb892197",
   "metadata": {},
   "source": [
    "## Plotting to Visualise Linearity"
   ]
  },
  {
   "cell_type": "code",
   "execution_count": 111,
   "id": "873ee08b-d151-45ff-82d7-f29b39e2df3b",
   "metadata": {},
   "outputs": [
    {
     "data": {
      "image/png": "[encoded data removed]",
      "text/plain": [
       "<Figure size 640x480 with 5 Axes>"
      ]
     },
     "metadata": {},
     "output_type": "display_data"
    }
   ],
   "source": [
    "x = 1\n",
    "\n",
    "for column in readFile:\n",
    "    if column != label:\n",
    "        plt.subplot(2, 3, x)\n",
    "        plt.scatter(readFile[column], y, color='blue')\n",
    "        plt.xlabel(column)\n",
    "        plt.ylabel(\"Emission\")\n",
    "    \n",
    "        x += 1\n",
    "\n",
    "plt.tight_layout()\n",
    "plt.show()"
   ]
  },
  {
   "cell_type": "markdown",
   "id": "ab82566b-4e54-4c5f-a978-271c9c46ced4",
   "metadata": {},
   "source": [
    "## Checking Multicollinearity"
   ]
  },
  {
   "cell_type": "markdown",
   "id": "25b12b8b-6403-4ccb-9ef8-aa0ac4cd7b4c",
   "metadata": {},
   "source": [
    "### Displaying Correlation Matrix"
   ]
  },
  {
   "cell_type": "code",
   "execution_count": 112,
   "id": "01bb0517-ef9e-48d1-8aa2-33c19f50ed83",
   "metadata": {},
   "outputs": [
    {
     "data": {
      "text/html": [
       "<div>\n",
       "<style scoped>\n",
       "    .dataframe tbody tr th:only-of-type {\n",
       "        vertical-align: middle;\n",
       "    }\n",
       "\n",
       "    .dataframe tbody tr th {\n",
       "        vertical-align: top;\n",
       "    }\n",
       "\n",
       "    .dataframe thead th {\n",
       "        text-align: right;\n",
       "    }\n",
       "</style>\n",
       "<table border=\"1\" class=\"dataframe\">\n",
       "  <thead>\n",
       "    <tr style=\"text-align: right;\">\n",
       "      <th></th>\n",
       "      <th>ENGINESIZE</th>\n",
       "      <th>CYLINDERS</th>\n",
       "      <th>FUELCONSUMPTION_CITY</th>\n",
       "      <th>FUELCONSUMPTION_HWY</th>\n",
       "      <th>FUELCONSUMPTION_COMB</th>\n",
       "      <th>CO2EMISSIONS</th>\n",
       "    </tr>\n",
       "  </thead>\n",
       "  <tbody>\n",
       "    <tr>\n",
       "      <th>ENGINESIZE</th>\n",
       "      <td>1.000000</td>\n",
       "      <td>0.934011</td>\n",
       "      <td>0.832225</td>\n",
       "      <td>0.778746</td>\n",
       "      <td>0.819482</td>\n",
       "      <td>0.874154</td>\n",
       "    </tr>\n",
       "    <tr>\n",
       "      <th>CYLINDERS</th>\n",
       "      <td>0.934011</td>\n",
       "      <td>1.000000</td>\n",
       "      <td>0.796473</td>\n",
       "      <td>0.724594</td>\n",
       "      <td>0.776788</td>\n",
       "      <td>0.849685</td>\n",
       "    </tr>\n",
       "    <tr>\n",
       "      <th>FUELCONSUMPTION_CITY</th>\n",
       "      <td>0.832225</td>\n",
       "      <td>0.796473</td>\n",
       "      <td>1.000000</td>\n",
       "      <td>0.965718</td>\n",
       "      <td>0.995542</td>\n",
       "      <td>0.898039</td>\n",
       "    </tr>\n",
       "    <tr>\n",
       "      <th>FUELCONSUMPTION_HWY</th>\n",
       "      <td>0.778746</td>\n",
       "      <td>0.724594</td>\n",
       "      <td>0.965718</td>\n",
       "      <td>1.000000</td>\n",
       "      <td>0.985804</td>\n",
       "      <td>0.861748</td>\n",
       "    </tr>\n",
       "    <tr>\n",
       "      <th>FUELCONSUMPTION_COMB</th>\n",
       "      <td>0.819482</td>\n",
       "      <td>0.776788</td>\n",
       "      <td>0.995542</td>\n",
       "      <td>0.985804</td>\n",
       "      <td>1.000000</td>\n",
       "      <td>0.892129</td>\n",
       "    </tr>\n",
       "    <tr>\n",
       "      <th>CO2EMISSIONS</th>\n",
       "      <td>0.874154</td>\n",
       "      <td>0.849685</td>\n",
       "      <td>0.898039</td>\n",
       "      <td>0.861748</td>\n",
       "      <td>0.892129</td>\n",
       "      <td>1.000000</td>\n",
       "    </tr>\n",
       "  </tbody>\n",
       "</table>\n",
       "</div>"
      ],
      "text/plain": [
       "                      ENGINESIZE  CYLINDERS  FUELCONSUMPTION_CITY  \\\n",
       "ENGINESIZE              1.000000   0.934011              0.832225   \n",
       "CYLINDERS               0.934011   1.000000              0.796473   \n",
       "FUELCONSUMPTION_CITY    0.832225   0.796473              1.000000   \n",
       "FUELCONSUMPTION_HWY     0.778746   0.724594              0.965718   \n",
       "FUELCONSUMPTION_COMB    0.819482   0.776788              0.995542   \n",
       "CO2EMISSIONS            0.874154   0.849685              0.898039   \n",
       "\n",
       "                      FUELCONSUMPTION_HWY  FUELCONSUMPTION_COMB  CO2EMISSIONS  \n",
       "ENGINESIZE                       0.778746              0.819482      0.874154  \n",
       "CYLINDERS                        0.724594              0.776788      0.849685  \n",
       "FUELCONSUMPTION_CITY             0.965718              0.995542      0.898039  \n",
       "FUELCONSUMPTION_HWY              1.000000              0.985804      0.861748  \n",
       "FUELCONSUMPTION_COMB             0.985804              1.000000      0.892129  \n",
       "CO2EMISSIONS                     0.861748              0.892129      1.000000  "
      ]
     },
     "execution_count": 112,
     "metadata": {},
     "output_type": "execute_result"
    }
   ],
   "source": [
    "corr = readFile.corr()\n",
    "corr"
   ]
  },
  {
   "cell_type": "markdown",
   "id": "171ddd54-7225-46c3-ba02-7e5cf681ecb5",
   "metadata": {},
   "source": [
    "As we can see, `FUELCONSUMPTION_COMB` has an unusually high correlation with both `FUELCONSUMPTION_CITY` and `FUELCONSUMPTION_HWY`, as does `FUELCONSUMPTION_HWY` with `FUELCONSUMPTION_CITY`, showing us that these 3 variables will have a very similar effect on our model, and will be repetitive if we include all."
   ]
  },
  {
   "cell_type": "markdown",
   "id": "f4f6c5e7-4338-4967-9812-3047a7ebdeb6",
   "metadata": {},
   "source": [
    "#### Visualing the Correlation Matrix\n",
    "\n",
    "This will help us visualise the correlation between our variables to see which ones are the most alike and will have the same effect on our model."
   ]
  },
  {
   "cell_type": "code",
   "execution_count": 113,
   "id": "08393a11-44af-43c9-91d7-5c435fd20193",
   "metadata": {
    "scrolled": true
   },
   "outputs": [
    {
     "data": {
      "text/plain": [
       "<Axes: >"
      ]
     },
     "execution_count": 113,
     "metadata": {},
     "output_type": "execute_result"
    },
    {
     "data": {
      "image/png": "[encoded data removed]",
      "text/plain": [
       "<Figure size 640x480 with 2 Axes>"
      ]
     },
     "metadata": {},
     "output_type": "display_data"
    }
   ],
   "source": [
    "import seaborn as sns\n",
    "\n",
    "sns.heatmap(corr, annot = True, xticklabels = corr.columns, yticklabels = corr.columns)"
   ]
  },
  {
   "cell_type": "markdown",
   "id": "1c16ad56-ddda-45e9-b799-62d382902007",
   "metadata": {},
   "source": [
    "### Using VIF"
   ]
  },
  {
   "cell_type": "code",
   "execution_count": 114,
   "id": "eac45f95-bbf8-4177-a78c-33675dc0190f",
   "metadata": {},
   "outputs": [
    {
     "name": "stdout",
     "output_type": "stream",
     "text": [
      "const                      29.483552\n",
      "ENGINESIZE                  9.940833\n",
      "CYLINDERS                   8.736138\n",
      "FUELCONSUMPTION_CITY     6204.659343\n",
      "FUELCONSUMPTION_HWY      1957.594920\n",
      "FUELCONSUMPTION_COMB    14825.387134\n",
      "CO2EMISSIONS                7.362425\n",
      "dtype: float64\n"
     ]
    }
   ],
   "source": [
    "from statsmodels.stats.outliers_influence import variance_inflation_factor\n",
    "from statsmodels.tools import add_constant\n",
    "\n",
    "X1 = add_constant(readFile)\n",
    "series_before = pandas.Series([variance_inflation_factor(X1.values, i) for i in range(X1.shape[1])], index = X1.columns)\n",
    "print(series_before)"
   ]
  },
  {
   "cell_type": "markdown",
   "id": "6a2442ca-0111-4482-b858-6250d67ce7e7",
   "metadata": {},
   "source": [
    "As we can see, `FUELCONSUMPTION_COMB`, `FUELCONSUMPTION_CITY`, and `FUELCONSUMPTION_HWY` have unusually high VIF values, and ideally, we want them all under 5. All 3 of these have a high correlation with `CO2EMISSIONS` (as we can see from our correlation matrix above), so we'll start by removing `FUELCONSUMPTION_COMB`.\n",
    "\n",
    "Also `ENGINESIZE` and `CYLINDERS` have a similar VIF, showing us that their contribution to the model is similar. Between both of these, `CYLINDERS` has a higher impact on `CO2EMISSIONS` (as evident in the correlation matrix above), so we will remove `ENGINESIZE` as well."
   ]
  },
  {
   "cell_type": "code",
   "execution_count": 115,
   "id": "b64e961c-6631-4a7e-a39f-17f5c32014b7",
   "metadata": {},
   "outputs": [
    {
     "name": "stdout",
     "output_type": "stream",
     "text": [
      "const                   19.416339\n",
      "CYLINDERS                4.039377\n",
      "FUELCONSUMPTION_CITY    22.199328\n",
      "FUELCONSUMPTION_HWY     16.357981\n",
      "CO2EMISSIONS             7.032547\n",
      "dtype: float64\n"
     ]
    }
   ],
   "source": [
    "readFile = readFile.drop(['FUELCONSUMPTION_COMB', 'ENGINESIZE'], axis = 1)\n",
    "\n",
    "X1 = add_constant(readFile)\n",
    "series_before = pandas.Series([variance_inflation_factor(X1.values, i) for i in range(X1.shape[1])], index = X1.columns)\n",
    "print(series_before)"
   ]
  },
  {
   "cell_type": "markdown",
   "id": "071452de-ec83-4889-9f0b-893f528ee39a",
   "metadata": {},
   "source": [
    "`FUELCONSUMPTION_CITY` has the highest VIF, so we will remove it."
   ]
  },
  {
   "cell_type": "code",
   "execution_count": 116,
   "id": "825eacee-6c11-44c6-a356-6940c01581a6",
   "metadata": {},
   "outputs": [
    {
     "name": "stdout",
     "output_type": "stream",
     "text": [
      "const                  17.562819\n",
      "CYLINDERS               3.599576\n",
      "FUELCONSUMPTION_HWY     3.888303\n",
      "CO2EMISSIONS            6.642319\n",
      "dtype: float64\n"
     ]
    }
   ],
   "source": [
    "readFile = readFile.drop(['FUELCONSUMPTION_CITY'], axis = 1)\n",
    "\n",
    "X1 = add_constant(readFile)\n",
    "series_before = pandas.Series([variance_inflation_factor(X1.values, i) for i in range(X1.shape[1])], index = X1.columns)\n",
    "print(series_before)"
   ]
  },
  {
   "cell_type": "markdown",
   "id": "7138d8d8-405e-4f46-ae19-324de439e7b2",
   "metadata": {},
   "source": [
    "Now that the VIF values are below 5, we can continue."
   ]
  },
  {
   "cell_type": "markdown",
   "id": "a843add3-e372-4ae9-9cb8-ceb6c8111bdd",
   "metadata": {},
   "source": [
    "## Defining Attributes and Label"
   ]
  },
  {
   "cell_type": "code",
   "execution_count": 117,
   "id": "e5e77ef1-8a8f-418b-a522-dfdd98b90c9d",
   "metadata": {},
   "outputs": [],
   "source": [
    "label = \"CO2EMISSIONS\"\n",
    "\n",
    "X = readFile.drop([label], axis = 1)\n",
    "y = readFile[label]"
   ]
  },
  {
   "cell_type": "markdown",
   "id": "ce8a9bcc-9ea7-42c8-a76c-f4d13ec0ec37",
   "metadata": {},
   "source": [
    "## Creating Test/Train Sets\n",
    "\n",
    "Previously, we observed that `FUELCONSUMPTION_CITY` and `FUELCONSUMPTION_COMB` gave the highest R2 score, so this time, we will train our model on both."
   ]
  },
  {
   "cell_type": "code",
   "execution_count": 118,
   "id": "b8a0d2b2-63b0-48dc-bbc5-fcdb3b1c689a",
   "metadata": {},
   "outputs": [],
   "source": [
    "from sklearn.model_selection import train_test_split\n",
    "\n",
    "X_train, X_test, y_train, y_test = train_test_split(X, y, test_size = 0.2, random_state = 42)"
   ]
  },
  {
   "cell_type": "markdown",
   "id": "fe511bc6-4729-43fb-8a13-3e1ee4b2cbf4",
   "metadata": {},
   "source": [
    "## Scaling our Values\n",
    "\n",
    "In Linear Regression, it is advised that we scale our X-train-set before training our model on it as we do not want any one feature to dominate over the others. Here, I am standardising them (making mean = standard deviation = 0)"
   ]
  },
  {
   "cell_type": "code",
   "execution_count": 119,
   "id": "1831d33c-fb8c-4241-822d-0203872fc010",
   "metadata": {},
   "outputs": [],
   "source": [
    "from sklearn.preprocessing import StandardScaler\n",
    "\n",
    "scaler = StandardScaler()\n",
    "X_scaled = scaler.fit_transform(X_train)\n",
    "X_scaled = pandas.DataFrame(X_train, columns=X_train.columns)"
   ]
  },
  {
   "cell_type": "markdown",
   "id": "1bf3d5c6-7b1c-456d-bf7b-7940489bc0ee",
   "metadata": {},
   "source": [
    "## Training Model"
   ]
  },
  {
   "cell_type": "code",
   "execution_count": 120,
   "id": "73a3c096-2b2d-44cc-9097-0624b5377856",
   "metadata": {},
   "outputs": [],
   "source": [
    "from sklearn.linear_model import LinearRegression\n",
    "\n",
    "ml = LinearRegression().fit(X_scaled, y_train)"
   ]
  },
  {
   "cell_type": "markdown",
   "id": "df2ee8a9-6a16-45b6-9431-88b930cc1619",
   "metadata": {},
   "source": [
    "## Comparing Predicted Values to Actual Values"
   ]
  },
  {
   "cell_type": "code",
   "execution_count": 121,
   "id": "e4c86734-45d7-4efd-acce-d01f7ef2b138",
   "metadata": {},
   "outputs": [
    {
     "data": {
      "image/png": "[encoded data removed]",
      "text/plain": [
       "<Figure size 640x480 with 1 Axes>"
      ]
     },
     "metadata": {},
     "output_type": "display_data"
    }
   ],
   "source": [
    "y_pred = ml.predict(X_test)\n",
    "\n",
    "plt.scatter(y_test, y_pred)\n",
    "plt.xlabel('Actual')\n",
    "plt.ylabel('Predicted')\n",
    "plt.title('Actual vs Predicted')\n",
    "plt.show()"
   ]
  },
  {
   "cell_type": "markdown",
   "id": "79c2a58f-1b72-4871-a455-d99d595f0619",
   "metadata": {},
   "source": [
    "## Calculating R2 Score"
   ]
  },
  {
   "cell_type": "code",
   "execution_count": 122,
   "id": "1236fe09-caa0-4a90-90dd-8ca704f2ecd8",
   "metadata": {},
   "outputs": [
    {
     "data": {
      "text/plain": [
       "0.8578426096924994"
      ]
     },
     "execution_count": 122,
     "metadata": {},
     "output_type": "execute_result"
    }
   ],
   "source": [
    "from sklearn.metrics import r2_score\n",
    "\n",
    "r2_score(y_test, y_pred)"
   ]
  },
  {
   "cell_type": "markdown",
   "id": "65f9b528-8e34-4b18-9657-8c089f9921aa",
   "metadata": {},
   "source": [
    "The R2 score has increased from `0.8184231533160797` in our Simple Linear Regression model where we trained it solely on `FUELCONSUMPTION_CITY` to `0.8578426096924994` in our Multiple Linear Regression model where we have trained it on multiple attributes."
   ]
  },
  {
   "cell_type": "markdown",
   "id": "bfef2811-4ecd-45b7-b11b-0a69852b2900",
   "metadata": {},
   "source": [
    "## Conclusion\n",
    "\n",
    "We were able to increase the accuracy of our model from a maximum of `0.8184231533160797` in Simple Linear Regression to `0.8578426096924994` in Multiple Linear Regression by training our model on all the appropriate attributes."
   ]
  },
  {
   "cell_type": "code",
   "execution_count": null,
   "id": "acde65b0-edc9-4fef-a785-404ba1b23f95",
   "metadata": {},
   "outputs": [],
   "source": []
  }
 ],
 "metadata": {
  "kernelspec": {
   "display_name": "Python 3 (ipykernel)",
   "language": "python",
   "name": "python3"
  },
  "language_info": {
   "codemirror_mode": {
    "name": "ipython",
    "version": 3
   },
   "file_extension": ".py",
   "mimetype": "text/x-python",
   "name": "python",
   "nbconvert_exporter": "python",
   "pygments_lexer": "ipython3",
   "version": "3.12.4"
  }
 },
 "nbformat": 4,
 "nbformat_minor": 5
}
