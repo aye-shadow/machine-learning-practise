{
 "cells": [
  {
   "cell_type": "markdown",
   "id": "ad018e5b-2c60-43ab-86e0-1c139ec58a69",
   "metadata": {},
   "source": [
    "# KNN: Predicting Customer Class"
   ]
  },
  {
   "cell_type": "markdown",
   "id": "fbdc64fe-63c6-4eb6-aad2-d734e0163609",
   "metadata": {},
   "source": [
    "### Importing Libraries"
   ]
  },
  {
   "cell_type": "code",
   "execution_count": 100,
   "id": "1bbdeeb9-7a8c-48bd-9950-d473646e21cd",
   "metadata": {},
   "outputs": [],
   "source": [
    "import numpy as np\n",
    "import matplotlib.pyplot as plt\n",
    "import pandas as pd\n",
    "import numpy as np\n",
    "from sklearn import linear_model, preprocessing, model_selection, metrics\n",
    "from sklearn.utils import shuffle\n",
    "from sklearn.neighbors import KNeighborsClassifier\n",
    "%matplotlib inline"
   ]
  },
  {
   "cell_type": "markdown",
   "id": "1c821fca-d566-4ad9-90ba-9a27fc74dbcc",
   "metadata": {},
   "source": [
    "### Reading CSV File"
   ]
  },
  {
   "cell_type": "code",
   "execution_count": 101,
   "id": "3a04e9d1-dc12-4c96-958f-ef5a1ae638d0",
   "metadata": {},
   "outputs": [
    {
     "data": {
      "text/html": [
       "<div>\n",
       "<style scoped>\n",
       "    .dataframe tbody tr th:only-of-type {\n",
       "        vertical-align: middle;\n",
       "    }\n",
       "\n",
       "    .dataframe tbody tr th {\n",
       "        vertical-align: top;\n",
       "    }\n",
       "\n",
       "    .dataframe thead th {\n",
       "        text-align: right;\n",
       "    }\n",
       "</style>\n",
       "<table border=\"1\" class=\"dataframe\">\n",
       "  <thead>\n",
       "    <tr style=\"text-align: right;\">\n",
       "      <th></th>\n",
       "      <th>region</th>\n",
       "      <th>tenure</th>\n",
       "      <th>age</th>\n",
       "      <th>marital</th>\n",
       "      <th>address</th>\n",
       "      <th>income</th>\n",
       "      <th>ed</th>\n",
       "      <th>employ</th>\n",
       "      <th>retire</th>\n",
       "      <th>gender</th>\n",
       "      <th>reside</th>\n",
       "      <th>custcat</th>\n",
       "    </tr>\n",
       "  </thead>\n",
       "  <tbody>\n",
       "    <tr>\n",
       "      <th>0</th>\n",
       "      <td>2</td>\n",
       "      <td>13</td>\n",
       "      <td>44</td>\n",
       "      <td>1</td>\n",
       "      <td>9</td>\n",
       "      <td>64.0</td>\n",
       "      <td>4</td>\n",
       "      <td>5</td>\n",
       "      <td>0.0</td>\n",
       "      <td>0</td>\n",
       "      <td>2</td>\n",
       "      <td>1</td>\n",
       "    </tr>\n",
       "    <tr>\n",
       "      <th>1</th>\n",
       "      <td>3</td>\n",
       "      <td>11</td>\n",
       "      <td>33</td>\n",
       "      <td>1</td>\n",
       "      <td>7</td>\n",
       "      <td>136.0</td>\n",
       "      <td>5</td>\n",
       "      <td>5</td>\n",
       "      <td>0.0</td>\n",
       "      <td>0</td>\n",
       "      <td>6</td>\n",
       "      <td>4</td>\n",
       "    </tr>\n",
       "    <tr>\n",
       "      <th>2</th>\n",
       "      <td>3</td>\n",
       "      <td>68</td>\n",
       "      <td>52</td>\n",
       "      <td>1</td>\n",
       "      <td>24</td>\n",
       "      <td>116.0</td>\n",
       "      <td>1</td>\n",
       "      <td>29</td>\n",
       "      <td>0.0</td>\n",
       "      <td>1</td>\n",
       "      <td>2</td>\n",
       "      <td>3</td>\n",
       "    </tr>\n",
       "    <tr>\n",
       "      <th>3</th>\n",
       "      <td>2</td>\n",
       "      <td>33</td>\n",
       "      <td>33</td>\n",
       "      <td>0</td>\n",
       "      <td>12</td>\n",
       "      <td>33.0</td>\n",
       "      <td>2</td>\n",
       "      <td>0</td>\n",
       "      <td>0.0</td>\n",
       "      <td>1</td>\n",
       "      <td>1</td>\n",
       "      <td>1</td>\n",
       "    </tr>\n",
       "    <tr>\n",
       "      <th>4</th>\n",
       "      <td>2</td>\n",
       "      <td>23</td>\n",
       "      <td>30</td>\n",
       "      <td>1</td>\n",
       "      <td>9</td>\n",
       "      <td>30.0</td>\n",
       "      <td>1</td>\n",
       "      <td>2</td>\n",
       "      <td>0.0</td>\n",
       "      <td>0</td>\n",
       "      <td>4</td>\n",
       "      <td>3</td>\n",
       "    </tr>\n",
       "  </tbody>\n",
       "</table>\n",
       "</div>"
      ],
      "text/plain": [
       "   region  tenure  age  marital  address  income  ed  employ  retire  gender  \\\n",
       "0       2      13   44        1        9    64.0   4       5     0.0       0   \n",
       "1       3      11   33        1        7   136.0   5       5     0.0       0   \n",
       "2       3      68   52        1       24   116.0   1      29     0.0       1   \n",
       "3       2      33   33        0       12    33.0   2       0     0.0       1   \n",
       "4       2      23   30        1        9    30.0   1       2     0.0       0   \n",
       "\n",
       "   reside  custcat  \n",
       "0       2        1  \n",
       "1       6        4  \n",
       "2       2        3  \n",
       "3       1        1  \n",
       "4       4        3  "
      ]
     },
     "execution_count": 101,
     "metadata": {},
     "output_type": "execute_result"
    }
   ],
   "source": [
    "df = pd.read_csv('teleCust1000t.csv')\n",
    "df.head()"
   ]
  },
  {
   "cell_type": "markdown",
   "id": "3e1a72ef-a432-412b-b43e-5572383e10ed",
   "metadata": {},
   "source": [
    "### Reading Columns"
   ]
  },
  {
   "cell_type": "code",
   "execution_count": 102,
   "id": "e929731a-6ec3-4e41-baae-42ee0a4d9384",
   "metadata": {},
   "outputs": [
    {
     "data": {
      "text/plain": [
       "Index(['region', 'tenure', 'age', 'marital', 'address', 'income', 'ed',\n",
       "       'employ', 'retire', 'gender', 'reside', 'custcat'],\n",
       "      dtype='object')"
      ]
     },
     "execution_count": 102,
     "metadata": {},
     "output_type": "execute_result"
    }
   ],
   "source": [
    "df.columns"
   ]
  },
  {
   "cell_type": "markdown",
   "id": "dd65b8ee-5259-4834-a481-23b74d34c5ce",
   "metadata": {},
   "source": [
    "### Defining Attributes and Label"
   ]
  },
  {
   "cell_type": "code",
   "execution_count": 103,
   "id": "6284c6db-90c9-46e1-8eae-260a448a7ad0",
   "metadata": {},
   "outputs": [],
   "source": [
    "predict = \"custcat\"\n",
    "\n",
    "X = df[['region', 'tenure','age', 'marital', 'address', 'income', 'ed', 'employ','retire', 'gender', 'reside']] .values  \n",
    "y = df[predict].values"
   ]
  },
  {
   "cell_type": "markdown",
   "id": "94df1c75-219b-4013-8ca7-67547d80d949",
   "metadata": {},
   "source": [
    "### Prepping Dataset For Train/Test-Split"
   ]
  },
  {
   "cell_type": "code",
   "execution_count": 104,
   "id": "ba348086-08fb-4ffd-93af-b73c5d43eabb",
   "metadata": {},
   "outputs": [],
   "source": [
    "X_train, X_test, y_train, y_test = model_selection.train_test_split(X, y, test_size = 0.2, random_state = 1)"
   ]
  },
  {
   "cell_type": "markdown",
   "id": "8dfac419-9a8d-43b1-90c8-250975fa42dc",
   "metadata": {},
   "source": [
    "### Calculating Max Possible K-Value"
   ]
  },
  {
   "cell_type": "code",
   "execution_count": 105,
   "id": "930c3fb7-862f-4475-bdc9-750e0d461f4e",
   "metadata": {},
   "outputs": [],
   "source": [
    "import math\n",
    "\n",
    "neigh = math.floor(math.sqrt(len(y_train)))\n",
    "if neigh % 2 == 0:\n",
    "    neigh = neigh - 1"
   ]
  },
  {
   "cell_type": "markdown",
   "id": "58920ceb-fa70-48d1-9a93-a379a68798c0",
   "metadata": {},
   "source": [
    "### Visualing Classification\n",
    "\n",
    "This will help us decided what type of average we want to use for our F1 score."
   ]
  },
  {
   "cell_type": "code",
   "execution_count": 106,
   "id": "f975b503-94eb-4d38-8bc6-64b29a7c639d",
   "metadata": {},
   "outputs": [
    {
     "data": {
      "text/plain": [
       "custcat\n",
       "3    281\n",
       "1    266\n",
       "4    236\n",
       "2    217\n",
       "Name: count, dtype: int64"
      ]
     },
     "execution_count": 106,
     "metadata": {},
     "output_type": "execute_result"
    }
   ],
   "source": [
    "df[predict].value_counts()"
   ]
  },
  {
   "cell_type": "code",
   "execution_count": 132,
   "id": "3a48824d-daeb-4c3e-b56c-5e4befa4525d",
   "metadata": {},
   "outputs": [
    {
     "data": {
      "image/png": "[encoded data removed]",
      "text/plain": [
       "<Figure size 640x480 with 1 Axes>"
      ]
     },
     "metadata": {},
     "output_type": "display_data"
    }
   ],
   "source": [
    "plt.bar(df[predict].value_counts().index, df[predict].value_counts().values, color ='maroon', width = 0.5)\n",
    "plt.xlabel('Customer Classes')\n",
    "plt.ylabel('Count')\n",
    "plt.title('Count Per Customer Class')\n",
    "plt.show()"
   ]
  },
  {
   "cell_type": "markdown",
   "id": "84fd8546-695e-4bcf-b53e-7e57d4a88837",
   "metadata": {},
   "source": [
    "### Training Model Over Different K-Values"
   ]
  },
  {
   "cell_type": "code",
   "execution_count": 107,
   "id": "8ebf957f-9a77-48ef-982a-0366beff055a",
   "metadata": {},
   "outputs": [],
   "source": [
    "all_scores = np.zeros(neigh)\n",
    "\n",
    "for n in range(1, neigh + 1):    \n",
    "    model = KNeighborsClassifier(n_neighbors = n)\n",
    "    model.fit(X_train, y_train)\n",
    "\n",
    "    y_hat = model.predict(X_test)\n",
    "\n",
    "    # acc = model.score(X_test, y_test)\n",
    "    # acc = metrics.accuracy_score(y_test, y_hat)\n",
    "    f1 = metrics.f1_score(y_test, y_hat, average = 'micro')\n",
    "\n",
    "    all_scores[n - 1] = f1"
   ]
  },
  {
   "cell_type": "markdown",
   "id": "caec7c84-3131-4eda-81ad-784ebfa6fcfb",
   "metadata": {},
   "source": [
    "### Plotting Over All K-Values"
   ]
  },
  {
   "cell_type": "code",
   "execution_count": 108,
   "id": "67361ec7-a5ce-4607-904a-8ca66f1d4adc",
   "metadata": {},
   "outputs": [
    {
     "data": {
      "image/png": "[encoded data removed]",
      "text/plain": [
       "<Figure size 640x480 with 1 Axes>"
      ]
     },
     "metadata": {},
     "output_type": "display_data"
    }
   ],
   "source": [
    "plt.plot(range(1, neigh + 1), all_scores, 'g')\n",
    "plt.show()"
   ]
  },
  {
   "cell_type": "markdown",
   "id": "8edb3dd5-0c60-4d0f-bb7f-7973655ff20c",
   "metadata": {},
   "source": [
    "### Deciding Best K-Value"
   ]
  },
  {
   "cell_type": "code",
   "execution_count": 133,
   "id": "b3ae425d-4ada-4aad-bc51-6cbc59de552e",
   "metadata": {},
   "outputs": [
    {
     "name": "stdout",
     "output_type": "stream",
     "text": [
      "The best accuracy was with 0.395 with k = 18\n"
     ]
    }
   ],
   "source": [
    "best_k = all_scores.argmax()+1\n",
    "\n",
    "print(\"The best accuracy was with\", all_scores.max(), \"with k =\", best_k) "
   ]
  },
  {
   "cell_type": "code",
   "execution_count": 145,
   "id": "0b9df080-2e4c-433c-8730-20336a3faf10",
   "metadata": {},
   "outputs": [
    {
     "data": {
      "image/png": "[encoded data removed]",
      "text/plain": [
       "<Figure size 640x480 with 2 Axes>"
      ]
     },
     "metadata": {},
     "output_type": "display_data"
    }
   ],
   "source": [
    "model = KNeighborsClassifier(n_neighbors = best_k)\n",
    "model.fit(X_train, y_train)\n",
    "y_hat = model.predict(X_test)\n",
    "\n",
    "cm = metrics.confusion_matrix(y_test, y_hat)\n",
    "cm_disp = metrics.ConfusionMatrixDisplay(confusion_matrix = cm, display_labels = ['1', '2', '3', '4'])\n",
    "cm_disp.plot()\n",
    "plt.show()"
   ]
  },
  {
   "cell_type": "code",
   "execution_count": null,
   "id": "8ba9f3e3-43cf-47e3-9297-ea1d04f676f8",
   "metadata": {},
   "outputs": [],
   "source": []
  }
 ],
 "metadata": {
  "kernelspec": {
   "display_name": "Python 3 (ipykernel)",
   "language": "python",
   "name": "python3"
  },
  "language_info": {
   "codemirror_mode": {
    "name": "ipython",
    "version": 3
   },
   "file_extension": ".py",
   "mimetype": "text/x-python",
   "name": "python",
   "nbconvert_exporter": "python",
   "pygments_lexer": "ipython3",
   "version": "3.11.7"
  }
 },
 "nbformat": 4,
 "nbformat_minor": 5
}
